{
  "cells": [
    {
      "cell_type": "markdown",
      "metadata": {
        "id": "view-in-github",
        "colab_type": "text"
      },
      "source": [
        "<a href=\"https://colab.research.google.com/github/Dayaanaly/SA-PU4_Modelo_LSTM/blob/main/SA_PU4_LSTM_PyTorch.ipynb\" target=\"_parent\"><img src=\"https://colab.research.google.com/assets/colab-badge.svg\" alt=\"Open In Colab\"/></a>"
      ]
    },
    {
      "cell_type": "markdown",
      "metadata": {
        "id": "fTCSxOG-7ThD"
      },
      "source": [
        "# **Práctica #4: Modelo para generación de texto**\n",
        "\n",
        "*Centro Universitario de Ciencias Exactas e Ingenierías*\n",
        "\n",
        "*División de Tecnologías para la Integración Ciber-Humana*\n",
        "\n",
        "*Ingeniería Biomédica*\n",
        "\n",
        "<br>\n",
        "\n",
        "*Mtra. Sofía Alejandra Aguilar Valdez*\n",
        "\n",
        "4 de noviembre de 2022"
      ]
    },
    {
      "cell_type": "markdown",
      "metadata": {
        "id": "ZnCrxPvYlYbo"
      },
      "source": [
        "# Información del equipo\n",
        "\n",
        "``NOMBRES:``\n",
        "\n",
        "\n",
        "\n",
        "``CÓDIGOS:``\n",
        "\n",
        "```LINK REPOSITORIO:```\n",
        "https://github.com/Dayaanaly/SA-PU4_Modelo_LSTM"
      ]
    },
    {
      "cell_type": "markdown",
      "source": [
        "## **Contenido**\n",
        "\n",
        "\n",
        "\n",
        "1.   Resumen\n",
        "2.   Marco teórico\n",
        "3.   Objetivos\n",
        "4.   Materiales y métodos\n",
        "5.   Resultados\n",
        "6.   Discusión\n",
        "7.   Conclusiones\n",
        "8.   Referencias\n",
        "\n"
      ],
      "metadata": {
        "id": "QQ_tQMMJpude"
      }
    },
    {
      "cell_type": "markdown",
      "source": [
        "# **1. Resumen**\n",
        "La inteligencia artificial (IA) nació en la década de los 50´s denominada en un principio como la ciencia de e ingenio de hacer máquinas inteligentes, especialmente programas de cálculo inteligente, en la actualidad se describe como el proceso de automatizar las tareas intelectuales que son realizadas por los seres humanos. El Deep Learning o Aprendizaje Profundo que es el objetivo principal de nuestra asignatura es una rama de la inteligencia artificial que se basa en un subconjunto de algoritmos de aprendizaje automático los cuales intentan modelar niveles altos de abstracción en los datos. El tema de este trabajo, Las LSTM (Long Short Term Memory) el cual es un modelo similar a las ya aplicadas en prácticas anteriores, las redes neuronales recurrentes, las LSTM nos ofrecen cierta ventaja frente a las antes mencionadas debido a que son capaces de “recordar” datos relevantes en las secuencias. Para la implementación de del modelo se hizo uso de Project Gutenberg para poder obtener el libro “Frankenstein” y a partir del mismo poder generar una red LSTM capaz de predecir texto en base a secuencias del libro.\n"
      ],
      "metadata": {
        "id": "anvzyOk06GH5"
      }
    },
    {
      "cell_type": "markdown",
      "source": [
        "# **2. Marco Teórico**\n",
        "(300-800 palabras)"
      ],
      "metadata": {
        "id": "fPeBhfaEJU7O"
      }
    },
    {
      "cell_type": "markdown",
      "source": [
        "# **3. Objetivos**\n",
        "\n",
        "Objetivo general y objetivos específicos"
      ],
      "metadata": {
        "id": "4DkI5nLnJdhS"
      }
    },
    {
      "cell_type": "markdown",
      "source": [
        "# **4. Materiales y métodos**\n",
        "## *Materiales*\n",
        "\n",
        "Describir este conjunto de datos [[1]](https://www.gutenberg.org/ebooks/42324) (e.g., tipo de secuencia, características).\n",
        "\n",
        "## *Métodos*\n",
        "\n",
        "1. Esquema de metodología (¿qué configuración de RNN utilizarán: seq2seq, ... ?)\n",
        "2. Descripción de los métodos y su implementación en código en forma de \n"
      ],
      "metadata": {
        "id": "edp7zhqTJg2V"
      }
    },
    {
      "cell_type": "markdown",
      "metadata": {
        "id": "smFPEInG0yki"
      },
      "source": [
        "## 4.1. Preparing the data"
      ]
    },
    {
      "cell_type": "code",
      "source": [
        "from bs4 import BeautifulSoup\n",
        "from traitlets.utils import text\n",
        "import requests"
      ],
      "metadata": {
        "id": "nBOM3HGT6twt"
      },
      "execution_count": null,
      "outputs": []
    },
    {
      "cell_type": "code",
      "execution_count": null,
      "metadata": {
        "id": "-zsDX4pc1Zc1"
      },
      "outputs": [],
      "source": [
        "# Mount Google Drive\n",
        "#from google.colab import drive\n",
        "#drive.mount('/content/drive')"
      ]
    },
    {
      "cell_type": "code",
      "execution_count": null,
      "metadata": {
        "id": "aolOmNF61T1B"
      },
      "outputs": [],
      "source": [
        "# Read .txt file\n",
        "import numpy as np\n",
        "#filepath = \"/content/drive/MyDrive/🚀-DL-workshop-22B/U4 - LSTM/data/84-0.txt\"\n",
        "#with open(filepath, 'r', encoding=\"utf8\") as fp:\n",
        "  #text=fp.read()\n",
        "\n",
        "url= 'https://www.gutenberg.org/cache/epub/42324/pg42324.txt' #Url\n",
        "book=requests.get(url) \n",
        "soup=BeautifulSoup(book.text,'html.parser')\n",
        "text=soup.get_text() #Generate the text\n"
      ]
    },
    {
      "cell_type": "code",
      "source": [
        "start_indx = text.find('START OF THIS PROJECT GUTENBERG EBOOK FRANKENSTEIN')\n",
        "end_indx = text.find('END OF THE PROJECT GUTENBERG EBOOK FRANKENSTEIN')\n"
      ],
      "metadata": {
        "id": "wirRvonz7NZ1"
      },
      "execution_count": null,
      "outputs": []
    },
    {
      "cell_type": "code",
      "source": [
        "text = text[start_indx:end_indx]\n",
        "char_set = set(text)"
      ],
      "metadata": {
        "id": "FRyZ3bK57zL0"
      },
      "execution_count": null,
      "outputs": []
    },
    {
      "cell_type": "code",
      "execution_count": null,
      "metadata": {
        "colab": {
          "base_uri": "https://localhost:8080/"
        },
        "id": "YC6BPfGP35eG",
        "outputId": "fa33d9af-25b6-4ecf-d9b7-a105175d4bc9"
      },
      "outputs": [
        {
          "output_type": "stream",
          "name": "stdout",
          "text": [
            "Total Length: 465109\n",
            "Unique Characters: 90\n"
          ]
        }
      ],
      "source": [
        "print('Total Length:', len(text))\n",
        "print('Unique Characters:', len(char_set))"
      ]
    },
    {
      "cell_type": "markdown",
      "metadata": {
        "id": "8e9toFv54Dnb"
      },
      "source": [
        "- La secuencia consiste de 419,402 caracteres en total y 84 caracteres únicos.\n",
        "- Para convertir la secuencia en una representación numérica, se creará un diccionario llamado ``char2int``."
      ]
    },
    {
      "cell_type": "code",
      "execution_count": null,
      "metadata": {
        "id": "7GbZOwrb49hs"
      },
      "outputs": [],
      "source": [
        "# Sequence mapping: characters to integers and viceversa\n",
        "chars_sorted = sorted(char_set)\n",
        "char2int = {ch:i for i,ch in enumerate(chars_sorted)}\n",
        "char_array = np.array(chars_sorted)\n",
        "text_encoded = np.array(\n",
        "    [char2int[ch] for ch in text],\n",
        "    dtype=np.int32\n",
        ")"
      ]
    },
    {
      "cell_type": "code",
      "source": [
        "chars_sorted"
      ],
      "metadata": {
        "colab": {
          "base_uri": "https://localhost:8080/"
        },
        "id": "3D8vu7xCAcKy",
        "outputId": "e5666772-0dd2-4dd7-d0b3-e2c2ce83f345"
      },
      "execution_count": null,
      "outputs": [
        {
          "output_type": "execute_result",
          "data": {
            "text/plain": [
              "['\\n',\n",
              " '\\r',\n",
              " ' ',\n",
              " '!',\n",
              " '\"',\n",
              " '$',\n",
              " '%',\n",
              " '&',\n",
              " \"'\",\n",
              " '(',\n",
              " ')',\n",
              " '*',\n",
              " ',',\n",
              " '-',\n",
              " '.',\n",
              " '/',\n",
              " '0',\n",
              " '1',\n",
              " '2',\n",
              " '3',\n",
              " '4',\n",
              " '5',\n",
              " '6',\n",
              " '7',\n",
              " '8',\n",
              " '9',\n",
              " ':',\n",
              " ';',\n",
              " '?',\n",
              " '@',\n",
              " 'A',\n",
              " 'B',\n",
              " 'C',\n",
              " 'D',\n",
              " 'E',\n",
              " 'F',\n",
              " 'G',\n",
              " 'H',\n",
              " 'I',\n",
              " 'J',\n",
              " 'K',\n",
              " 'L',\n",
              " 'M',\n",
              " 'N',\n",
              " 'O',\n",
              " 'P',\n",
              " 'Q',\n",
              " 'R',\n",
              " 'S',\n",
              " 'T',\n",
              " 'U',\n",
              " 'V',\n",
              " 'W',\n",
              " 'X',\n",
              " 'Y',\n",
              " 'Z',\n",
              " '[',\n",
              " ']',\n",
              " '_',\n",
              " 'a',\n",
              " 'b',\n",
              " 'c',\n",
              " 'd',\n",
              " 'e',\n",
              " 'f',\n",
              " 'g',\n",
              " 'h',\n",
              " 'i',\n",
              " 'j',\n",
              " 'k',\n",
              " 'l',\n",
              " 'm',\n",
              " 'n',\n",
              " 'o',\n",
              " 'p',\n",
              " 'q',\n",
              " 'r',\n",
              " 's',\n",
              " 't',\n",
              " 'u',\n",
              " 'v',\n",
              " 'w',\n",
              " 'x',\n",
              " 'y',\n",
              " 'z',\n",
              " 'æ',\n",
              " 'è',\n",
              " 'é',\n",
              " 'ê',\n",
              " 'ô']"
            ]
          },
          "metadata": {},
          "execution_count": 8
        }
      ]
    },
    {
      "cell_type": "code",
      "source": [
        "type(text_encoded)"
      ],
      "metadata": {
        "colab": {
          "base_uri": "https://localhost:8080/"
        },
        "id": "oG88T-vtA4QP",
        "outputId": "c976b8ed-8db1-49df-e2ed-485890c10ee8"
      },
      "execution_count": null,
      "outputs": [
        {
          "output_type": "execute_result",
          "data": {
            "text/plain": [
              "numpy.ndarray"
            ]
          },
          "metadata": {},
          "execution_count": 9
        }
      ]
    },
    {
      "cell_type": "code",
      "source": [
        "text_encoded"
      ],
      "metadata": {
        "colab": {
          "base_uri": "https://localhost:8080/"
        },
        "id": "FWGpPQwuA773",
        "outputId": "651dbaa4-1e29-42d5-8ea7-d9226b1e1fce"
      },
      "execution_count": null,
      "outputs": [
        {
          "output_type": "execute_result",
          "data": {
            "text/plain": [
              "array([48, 49, 30, ..., 77, 14,  1], dtype=int32)"
            ]
          },
          "metadata": {},
          "execution_count": 10
        }
      ]
    },
    {
      "cell_type": "code",
      "execution_count": null,
      "metadata": {
        "colab": {
          "base_uri": "https://localhost:8080/"
        },
        "id": "mBxT9U3i5Txw",
        "outputId": "95720fd9-87ae-4be3-f39d-a41ea4ad9cfe"
      },
      "outputs": [
        {
          "output_type": "stream",
          "name": "stdout",
          "text": [
            "Text encoded shape: (465109,)\n",
            "START OF THIS P == Encoding ==> [48 49 30 47 49  2 44 35  2 49 37 38 48  2 45]\n",
            "[47 44 39 34 32 49] == Reverse ==> ROJECT\n"
          ]
        }
      ],
      "source": [
        "print('Text encoded shape:', text_encoded.shape)\n",
        "print(text[:15], '== Encoding ==>', text_encoded[:15])\n",
        "print(text_encoded[15:21], '== Reverse ==>',\n",
        "      ''.join(char_array[text_encoded[15:21]]))"
      ]
    },
    {
      "cell_type": "code",
      "execution_count": null,
      "metadata": {
        "colab": {
          "base_uri": "https://localhost:8080/"
        },
        "id": "GMXio7fN5kFr",
        "outputId": "b1ac4346-0259-4327-a9bb-963d544cfc60"
      },
      "outputs": [
        {
          "output_type": "stream",
          "name": "stdout",
          "text": [
            "48 -> S\n",
            "49 -> T\n",
            "30 -> A\n",
            "47 -> R\n",
            "49 -> T\n"
          ]
        }
      ],
      "source": [
        "# Print the mappings for the first 5 characters in this array\n",
        "for ex in text_encoded[:5]:\n",
        "  print('{} -> {}'.format(ex, char_array[ex]))"
      ]
    },
    {
      "cell_type": "markdown",
      "metadata": {
        "id": "UZn26FZH5-c5"
      },
      "source": [
        "- Para generar nuevo texto, el objetivo es diseñar un modelo que pueda **predecir el siguiente caracter** según una secuencia dada. \n",
        "- Dicha secuencia, el input, representa un **texto incompleto**.\n",
        "- Dado que tenemos 84 caracteres únicos, este problema puede abordarse como una **tarea de clasificación múltiple**."
      ]
    },
    {
      "cell_type": "markdown",
      "metadata": {
        "id": "4bFw8pDY575C"
      },
      "source": [
        "![class-task.png](data:image/png;base64,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)"
      ]
    },
    {
      "cell_type": "code",
      "execution_count": null,
      "metadata": {
        "colab": {
          "base_uri": "https://localhost:8080/"
        },
        "id": "suFBW0yF7Iqu",
        "outputId": "8bd4e621-d269-48f0-d118-e407a05c3502"
      },
      "outputs": [
        {
          "output_type": "stream",
          "name": "stderr",
          "text": [
            "/usr/local/lib/python3.7/dist-packages/ipykernel_launcher.py:20: UserWarning: Creating a tensor from a list of numpy.ndarrays is extremely slow. Please consider converting the list to a single numpy.ndarray with numpy.array() before converting to a tensor. (Triggered internally at  ../torch/csrc/utils/tensor_new.cpp:201.)\n"
          ]
        }
      ],
      "source": [
        "# Send encoded text to Dataset PyTorch class\n",
        "import torch\n",
        "from torch.utils.data import Dataset\n",
        "seq_length = 180 # fixed sequence length\n",
        "chunk_size = seq_length + 1\n",
        "text_chunks = [text_encoded[i:i+chunk_size] \n",
        "               for i in range(len(text_encoded)-chunk_size)]\n",
        "\n",
        "class TextDataset(Dataset):\n",
        "  def __init__(self, text_chunks):\n",
        "    self.text_chunks = text_chunks\n",
        "\n",
        "  def __len__(self):\n",
        "    return len(self.text_chunks)\n",
        "\n",
        "  def __getitem__(self, idx):\n",
        "    text_chunk = self.text_chunks[idx]\n",
        "    return text_chunk[:-1].long(), text_chunk[1:].long()\n",
        "\n",
        "seq_dataset = TextDataset(torch.tensor(text_chunks))"
      ]
    },
    {
      "cell_type": "code",
      "execution_count": null,
      "metadata": {
        "colab": {
          "base_uri": "https://localhost:8080/"
        },
        "id": "evQti7zW9Yz-",
        "outputId": "dc958583-f887-44e0-8d10-e40e0df371b8"
      },
      "outputs": [
        {
          "output_type": "stream",
          "name": "stdout",
          "text": [
            " Input (x):  'START OF THIS PROJECT GUTENBERG EBOOK FRANKENSTEIN ***\\r\\n\\r\\n\\r\\n\\r\\n\\r\\nProduced by Greg Weeks, Mary Meehan and the Online\\r\\nDistributed Proofreading Team at http://www.pgdp.net\\r\\n\\r\\n\\r\\n\\r\\n\\r\\n\\r\\n'\n",
            "Target (y):  'TART OF THIS PROJECT GUTENBERG EBOOK FRANKENSTEIN ***\\r\\n\\r\\n\\r\\n\\r\\n\\r\\nProduced by Greg Weeks, Mary Meehan and the Online\\r\\nDistributed Proofreading Team at http://www.pgdp.net\\r\\n\\r\\n\\r\\n\\r\\n\\r\\n\\r\\n\\r'\n",
            "\n",
            " Input (x):  'TART OF THIS PROJECT GUTENBERG EBOOK FRANKENSTEIN ***\\r\\n\\r\\n\\r\\n\\r\\n\\r\\nProduced by Greg Weeks, Mary Meehan and the Online\\r\\nDistributed Proofreading Team at http://www.pgdp.net\\r\\n\\r\\n\\r\\n\\r\\n\\r\\n\\r\\n\\r'\n",
            "Target (y):  'ART OF THIS PROJECT GUTENBERG EBOOK FRANKENSTEIN ***\\r\\n\\r\\n\\r\\n\\r\\n\\r\\nProduced by Greg Weeks, Mary Meehan and the Online\\r\\nDistributed Proofreading Team at http://www.pgdp.net\\r\\n\\r\\n\\r\\n\\r\\n\\r\\n\\r\\n\\r\\n'\n",
            "\n"
          ]
        }
      ],
      "source": [
        "for i, (seq, target) in enumerate(seq_dataset):\n",
        "  print(' Input (x): ',\n",
        "    repr(''.join(char_array[seq])))\n",
        "  print('Target (y): ',\n",
        "    repr(''.join(char_array[target])))\n",
        "  print()\n",
        "  if i == 1:\n",
        "    break"
      ]
    },
    {
      "cell_type": "code",
      "execution_count": null,
      "metadata": {
        "id": "9DmN72pO-G4M"
      },
      "outputs": [],
      "source": [
        "# Define DataLoaders\n",
        "from torch.utils.data import DataLoader\n",
        "batch_size = 64\n",
        "torch.manual_seed(1)\n",
        "seq_dl = DataLoader(seq_dataset, batch_size=batch_size,\n",
        "                    shuffle=True, drop_last=True)"
      ]
    },
    {
      "cell_type": "markdown",
      "metadata": {
        "id": "7a9QoeHL0311"
      },
      "source": [
        "## 4.2. Building the model"
      ]
    },
    {
      "cell_type": "markdown",
      "metadata": {
        "id": "xg7Q1LCp-R8y"
      },
      "source": [
        "### LSTM Model"
      ]
    },
    {
      "cell_type": "code",
      "execution_count": null,
      "metadata": {
        "id": "fCmW1Nuy-TrH"
      },
      "outputs": [],
      "source": [
        "# LSTM model definition\n",
        "import torch.nn as nn\n",
        "class RNN(nn.Module):\n",
        "  def __init__(self, vocab_size, embed_dim, rnn_hidden_size):\n",
        "    super().__init__()\n",
        "    self.embedding = nn.Embedding(vocab_size, embed_dim)\n",
        "    self.rnn_hidden_size = rnn_hidden_size\n",
        "    #self.rnn = nn.RNN(input_size, hidden_size, num_layers=2, batch_first=True)\n",
        "    self.rnn = nn.LSTM(embed_dim, rnn_hidden_size,\n",
        "                       batch_first=True)\n",
        "    self.fc = nn.Linear(rnn_hidden_size, vocab_size)\n",
        "\n",
        "  def forward(self, x, hidden, cell):\n",
        "    out = self.embedding(x).unsqueeze(1)\n",
        "    out, (hidden, cell) = self.rnn(out, (hidden, cell))\n",
        "    out = self.fc(out).reshape(out.size(0), -1)\n",
        "    return out, hidden, cell\n",
        "\n",
        "  def init_hidden(self, batch_size):\n",
        "    hidden = torch.zeros(1, batch_size, self.rnn_hidden_size)\n",
        "    cell = torch.zeros(1,batch_size, self.rnn_hidden_size)\n",
        "    return hidden, cell"
      ]
    },
    {
      "cell_type": "code",
      "execution_count": null,
      "metadata": {
        "colab": {
          "base_uri": "https://localhost:8080/"
        },
        "id": "y4CEn0wZ-rql",
        "outputId": "aaec73b3-ef08-40e5-b9a5-801dde4cac71"
      },
      "outputs": [
        {
          "output_type": "execute_result",
          "data": {
            "text/plain": [
              "RNN(\n",
              "  (embedding): Embedding(90, 256)\n",
              "  (rnn): LSTM(256, 512, batch_first=True)\n",
              "  (fc): Linear(in_features=512, out_features=90, bias=True)\n",
              ")"
            ]
          },
          "metadata": {},
          "execution_count": 17
        }
      ],
      "source": [
        "# Model instantiation\n",
        "vocab_size = len(char_array)\n",
        "embed_dim = 256\n",
        "rnn_hidden_size = 512\n",
        "torch.manual_seed(1)\n",
        "model = RNN(vocab_size, embed_dim, rnn_hidden_size).cuda()\n",
        "model"
      ]
    },
    {
      "cell_type": "markdown",
      "metadata": {
        "id": "D0l6q5xg_B6j"
      },
      "source": [
        "### Training"
      ]
    },
    {
      "cell_type": "code",
      "execution_count": null,
      "metadata": {
        "id": "GiN44bAi_F2w"
      },
      "outputs": [],
      "source": [
        "# Training criterions\n",
        "loss_fn = nn.CrossEntropyLoss()\n",
        "optimizer = torch.optim.Adam(model.parameters(), lr=0.001)"
      ]
    },
    {
      "cell_type": "code",
      "execution_count": null,
      "metadata": {
        "colab": {
          "base_uri": "https://localhost:8080/"
        },
        "id": "HI-O1geb_N8V",
        "outputId": "1748ca0e-a434-4ccc-b239-f4ec7f8e6f11"
      },
      "outputs": [
        {
          "output_type": "stream",
          "name": "stderr",
          "text": [
            "  0%|          | 1/10000 [00:00<36:19,  4.59it/s]"
          ]
        },
        {
          "output_type": "stream",
          "name": "stdout",
          "text": [
            "Epoch 0 loss: 0.7169\n"
          ]
        },
        {
          "output_type": "stream",
          "name": "stderr",
          "text": [
            "  5%|▌         | 501/10000 [01:54<34:34,  4.58it/s]"
          ]
        },
        {
          "output_type": "stream",
          "name": "stdout",
          "text": [
            "Epoch 500 loss: 0.6489\n"
          ]
        },
        {
          "output_type": "stream",
          "name": "stderr",
          "text": [
            "  5%|▌         | 539/10000 [02:02<35:30,  4.44it/s]"
          ]
        }
      ],
      "source": [
        "# Training\n",
        "from tqdm import tqdm\n",
        "\n",
        "num_epochs = 10000 #10000 -- Sofi\n",
        "torch.manual_seed(1)\n",
        "for epoch in tqdm(range(num_epochs)):\n",
        "  hidden, cell = model.init_hidden(batch_size)\n",
        "  hidden = hidden.cuda()\n",
        "  cell = cell.cuda()\n",
        "  seq_batch, target_batch = next(iter(seq_dl))\n",
        "  seq_batch = seq_batch.cuda()\n",
        "  target_batch = target_batch.cuda() \n",
        "  optimizer.zero_grad()\n",
        "  loss = 0\n",
        "  for c in range(seq_length):\n",
        "    pred, hidden, cell = model(seq_batch[:, c], hidden, cell)\n",
        "    loss += loss_fn(pred, target_batch[:, c])\n",
        "  loss.backward()\n",
        "  optimizer.step()\n",
        "  loss = loss.item()/seq_length\n",
        "  if epoch % 500 == 0:\n",
        "    print(f'Epoch {epoch} loss: {loss:.4f}')"
      ]
    },
    {
      "cell_type": "markdown",
      "metadata": {
        "id": "eV1Shex__hPW"
      },
      "source": [
        "### Evaluation"
      ]
    },
    {
      "cell_type": "code",
      "execution_count": null,
      "metadata": {
        "id": "Cps-vo9H_obQ"
      },
      "outputs": [],
      "source": [
        "from torch.distributions.categorical import Categorical\n",
        "torch.manual_seed(1)\n",
        "logits = torch.tensor([[1.0, 1.0, 1.0]])\n",
        "print('Probabilities:',\n",
        "      nn.functional.softmax(logits, dim=1).numpy()[0])\n",
        "m = Categorical(logits=logits)\n",
        "samples = m.sample((10,))\n",
        "print(samples.numpy())"
      ]
    },
    {
      "cell_type": "code",
      "execution_count": null,
      "metadata": {
        "id": "ZN532sniAOEY"
      },
      "outputs": [],
      "source": [
        "torch.manual_seed(1)\n",
        "logits = torch.tensor([[1.0, 1.0, 3.0]])\n",
        "print('Probabilities:', nn.functional.softmax(logits, dim=1).numpy()[0])\n",
        "m = Categorical(logits=logits)\n",
        "samples = m.sample((10,))\n",
        "print(samples.numpy())"
      ]
    },
    {
      "cell_type": "markdown",
      "metadata": {
        "id": "wTwhEz5hBbqf"
      },
      "source": [
        "### Save model"
      ]
    },
    {
      "cell_type": "code",
      "execution_count": null,
      "metadata": {
        "id": "R_0lIwBeBfzu"
      },
      "outputs": [],
      "source": [
        "torch.save(model, 'model.pt')"
      ]
    },
    {
      "cell_type": "markdown",
      "metadata": {
        "id": "vT8Lprll072U"
      },
      "source": [
        "## 4.3. Performing next-character prediction"
      ]
    },
    {
      "cell_type": "code",
      "execution_count": null,
      "metadata": {
        "id": "PZAmMh9aAVZu"
      },
      "outputs": [],
      "source": [
        "def sample(model, starting_str,len_generated_text=500,scale_factor=1.0):\n",
        "\n",
        "  encoded_input = torch.tensor([char2int[s] for s in starting_str]).cuda()\n",
        "  encoded_input = torch.reshape(encoded_input, (1, -1)).cuda()\n",
        "  generated_str = starting_str\n",
        "  model\n",
        "  model.eval()\n",
        "\n",
        "  hidden, cell = model.init_hidden(1)\n",
        "  hidden = hidden.cuda()\n",
        "  cell = cell.cuda()\n",
        "  for c in range(len(starting_str)-1):\n",
        "    _, hidden, cell = model(encoded_input[:, c].view(1), hidden, cell)\n",
        "  hidden = hidden.cuda()\n",
        "  cell = cell.cuda()\n",
        "  last_char = encoded_input[:, -1]\n",
        "  last_char = last_char.cuda()\n",
        "  \n",
        "  for i in range(len_generated_text):\n",
        "    logits, hidden, cell = model(last_char.view(1), hidden, cell)\n",
        "    logits = logits.cuda()\n",
        "    logits = torch.squeeze(logits, 0)\n",
        "    scaled_logits = logits * scale_factor\n",
        "    m = Categorical(logits=scaled_logits)\n",
        "    last_char = m.sample()\n",
        "    generated_str += str(char_array[last_char])\n",
        "  \n",
        "  return generated_str"
      ]
    },
    {
      "cell_type": "code",
      "source": [
        "torch.manual_seed(1)\n",
        "print(sample(model, starting_str='A man'))"
      ],
      "metadata": {
        "id": "w8FxKWbyvs4_"
      },
      "execution_count": null,
      "outputs": []
    },
    {
      "cell_type": "markdown",
      "source": [
        "# **5. Resultados**\n",
        "(300-800 palabras, incluir mínimo 2 figuras).\n"
      ],
      "metadata": {
        "id": "G1hd1Q0QJ1YU"
      }
    },
    {
      "cell_type": "markdown",
      "source": [
        "# **6. Discución**\n",
        "\n",
        "Underfitting, overfitting, o no y el porqué.\n",
        "\n",
        "Comparación de sus resultados con los de literatura asociada."
      ],
      "metadata": {
        "id": "2fXeYYriJ_07"
      }
    },
    {
      "cell_type": "markdown",
      "source": [
        "# **7. Conclusiones**\n",
        "(100-300 palabras)."
      ],
      "metadata": {
        "id": "LCW1w1s6KDaw"
      }
    },
    {
      "cell_type": "markdown",
      "metadata": {
        "id": "43VVebDxC1pZ"
      },
      "source": [
        "# **6. Referencias** \n",
        "[1] Frankenstein; Or, The Modern Prometheus by Mary Wollstonecraft Shelley. (1818). Project Gutenberg. Recuperado 8 de octubre de 2022, de https://www.gutenberg.org/ebooks/42324\n",
        "\n",
        "[2] DLVU. (2020). Lecture 5.2 Recurrent Neural Networks. YouTube. Retrieved September 30, 2022, from https://www.youtube.com/watch?v=2JGlmBhQedk&list=PLIXJ-Sacf8u7756f8QFM_FNZQxdJov8f4&index=2\n",
        "\n",
        "[3] Phi, M. (2020). Illustrated Guide to LSTM’s and GRU’s: A step by step explanation. Medium. Recuperado 20 de octubre de 2022, de https://towardsdatascience.com/illustrated-guide-to-lstms-and-gru-s-a-step-by-step-explanation-44e9eb85bf21\n",
        "\n",
        "[4] DLVU. (2020). Lecture 5.3 Long short-term memory (DLVU). YouTube. Recuperado 20 de octubre de 2022, de https://www.youtube.com/watch?v=fbTCvvICk8M&feature=youtu.be\n",
        "\n",
        "[5] Understanding LSTM Networks -- colah’s blog. (s. f.). Recuperado 21 de octubre de 2022, de https://colah.github.io/posts/2015-08-Understanding-LSTMs/\n",
        "\n",
        "\n",
        "\n"
      ]
    }
  ],
  "metadata": {
    "colab": {
      "provenance": [],
      "collapsed_sections": [
        "Q8d7rfDPCLB3",
        "YBdz4h9YCRqM",
        "JeRxlV3TCZAy",
        "8U5FR5gZCaAA",
        "F_u89uviCeEQ",
        "u82StaTVCjHa",
        "1ZW5s8YJk3Ed",
        "g1SrUgRak4Yo"
      ],
      "include_colab_link": true
    },
    "kernelspec": {
      "display_name": "Python 3",
      "name": "python3"
    },
    "language_info": {
      "name": "python"
    },
    "accelerator": "GPU",
    "gpuClass": "standard"
  },
  "nbformat": 4,
  "nbformat_minor": 0
}